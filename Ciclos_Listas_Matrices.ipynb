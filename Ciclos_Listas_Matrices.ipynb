{
 "cells": [
  {
   "metadata": {},
   "cell_type": "markdown",
   "source": "# **Ciclos**",
   "id": "55b181406abab07a"
  },
  {
   "metadata": {},
   "cell_type": "markdown",
   "source": "Los ciclos son estructuras de flujo de control al igual que *if*, *elif* y *else*. Estas estructuras se centran en repetir el bloque de codigo que contienen dada una condición de termino. Además estos *iteran* (recorren) datos como listas, cadenas, arreglos, etc, por medio una variable *iterador*.",
   "id": "df050df47283e685"
  },
  {
   "metadata": {},
   "cell_type": "markdown",
   "source": "### **Ciclo while**",
   "id": "53d58e1b016a0407"
  },
  {
   "metadata": {},
   "cell_type": "code",
   "source": [
    "condicion = True\n",
    "while (condicion):\n",
    "    #bloque de código\n",
    "    print(\"bloque de codigo\")"
   ],
   "id": "30dc8ca7b199a739",
   "outputs": [],
   "execution_count": null
  },
  {
   "metadata": {},
   "cell_type": "markdown",
   "source": "*While* además de tener una condición de funcionamiento, necesita que dicha condición cambie en algún punto, dado que si **no** cambia tendremos un ciclo de indeterminadas iteraciones, es así que un *While* necesita una condición de cambio de la condicional.",
   "id": "e76aeb655b2ecfe4"
  },
  {
   "metadata": {},
   "cell_type": "code",
   "source": [
    "indice = 0\n",
    "limite = 10\n",
    "while (indice < limite):\n",
    "    #bloque de código\n",
    "    print(indice)\n",
    "    indice += 1 #condicion de cambio"
   ],
   "id": "411dd3a597852c05",
   "outputs": [],
   "execution_count": null
  },
  {
   "metadata": {},
   "cell_type": "markdown",
   "source": "### **Ciclo while anidado**",
   "id": "dc41000c0cfd44e6"
  },
  {
   "metadata": {},
   "cell_type": "markdown",
   "source": "De igual forma que estructuras de control se anidan, los ciclos tambien lo hacen.",
   "id": "31c84a9e79e31512"
  },
  {
   "metadata": {},
   "cell_type": "code",
   "source": [
    "limite = 3\n",
    "indice_exterior = 1\n",
    "while (indice_exterior < limite):\n",
    "    indice_interior = 1\n",
    "    while (indice_interior < limite):\n",
    "        #bloque de código\n",
    "        print(f\"i:{indice_exterior} j:{indice_interior} ; i*j={indice_exterior*indice_interior}\")\n",
    "        indice_interior += 1 #condición de cambio del ciclo interior\n",
    "    indice_exterior += 1 #condición de cambio del ciclo exterior"
   ],
   "id": "64fc16d9323c588",
   "outputs": [],
   "execution_count": null
  },
  {
   "metadata": {},
   "cell_type": "markdown",
   "source": "### **Ciclo for**",
   "id": "10ea74e8c1514a7e"
  },
  {
   "metadata": {},
   "cell_type": "markdown",
   "source": "#### **Estructuras de for mas comunes**",
   "id": "6ee29639537adf56"
  },
  {
   "metadata": {},
   "cell_type": "code",
   "outputs": [],
   "execution_count": null,
   "source": [
    "for i in range(10): #i itera de 0 hasta 9\n",
    "    print(f\"i:{i}\")"
   ],
   "id": "6e62f9678174f893"
  },
  {
   "metadata": {},
   "cell_type": "code",
   "outputs": [],
   "execution_count": null,
   "source": [
    "inicio = 0\n",
    "fin = 10\n",
    "paso = 1 # como aumenta la iteración\n",
    "for i in range(inicio, fin, paso): #i itera de 0 hasta 9\n",
    "    print(f\"i:{i}\")"
   ],
   "id": "fc735b2f9a265352"
  },
  {
   "metadata": {},
   "cell_type": "markdown",
   "source": "A diferencia de *While*, *for* (python) no permite mantener un ciclo de iteraciones indeterminadas, es así que generalmente *for* se utiliza para iterar elementos en donde sabemos cuantas iteraciones se realizaran. Pero en la mayoria de casos es a gusto del programador cual utilizar. Tambien *for* no necesita una condicion de cambio dentro del codigo que contiene.",
   "id": "62800d48c268964d"
  },
  {
   "metadata": {},
   "cell_type": "markdown",
   "source": "### **Ciclo for anidado**",
   "id": "c9f4cd96d05a06de"
  },
  {
   "metadata": {},
   "cell_type": "code",
   "outputs": [],
   "execution_count": null,
   "source": [
    "for i in range(1,4,1): #i itera de 0 hasta 3\n",
    "    for j in range(1,4,1): #j itera de 0 hasta 3\n",
    "        #bloque de código\n",
    "        print(f\"i:{i} j:{j} ; i*j={i*j}\")"
   ],
   "id": "b4d89bd23cae1dea"
  },
  {
   "metadata": {},
   "cell_type": "markdown",
   "source": "# **Listas**",
   "id": "2314cdbc5a62cdda"
  },
  {
   "metadata": {},
   "cell_type": "markdown",
   "source": "La lista es una estructura de datos que permite almacenar múltiples elementos de una sola variable, con la capacidad de tener dimensión mutable (agregar y quitar elementos), sin orden alguno y con elementos duplicados. Teniendo un indice cada elemento, comenzando de 0 hasta n.",
   "id": "55d6cd8fc88ed911"
  },
  {
   "metadata": {},
   "cell_type": "markdown",
   "source": [
    "**Indices de los elementos en la lista**\n",
    "<div style=\"text-align:center;\">\n",
    "    <img src=\"I_rectaElementos_Listas.png\" alt=\"Texto alternativo\">\n",
    "</div>"
   ],
   "id": "568acaf166b1312a"
  },
  {
   "metadata": {},
   "cell_type": "markdown",
   "source": "### **Declarar listas y determinar el largo**",
   "id": "2a9c52af06f3568f"
  },
  {
   "metadata": {},
   "cell_type": "code",
   "source": [
    "lista_A = [1,2,3,4,5,6,7,8,9,10]\n",
    "lista_B = ['a', 'b', 'c', 'd', 'e', 'f', 'g', 'h', 'i', 'j']\n",
    "lista_C = [1.2, \"Perro\", 'K', 20, True]\n",
    "\n",
    "print(f\"largo lista_A:{len(lista_A)} -- largo lista_B:{len(lista_B)} -- largo lista_C:{len(lista_C)}\")"
   ],
   "id": "d19830cf81503b62",
   "outputs": [],
   "execution_count": null
  },
  {
   "metadata": {},
   "cell_type": "markdown",
   "source": "### **Acceder a los elementos de la lista**",
   "id": "6c55e726068a2984"
  },
  {
   "metadata": {},
   "cell_type": "code",
   "source": [
    "largo_lista_C = len(lista_C)\n",
    "print(f\"primer elemento de C:{lista_C[0]} -- ultimo elemento de A:{lista_C[largo_lista_C-1]}\")\n",
    "print(f\"largo lista_C:{largo_lista_C} != ultimo indice_C:{largo_lista_C-1}\")"
   ],
   "id": "28e3487b0aa0cf8b",
   "outputs": [],
   "execution_count": null
  },
  {
   "metadata": {},
   "cell_type": "markdown",
   "source": "Notar que el largo es distinto que el indice del ultimo elemento y intentar acceder a un indice no existente en la lista causa error en la ejecución",
   "id": "374b3db6bbaa788d"
  },
  {
   "metadata": {},
   "cell_type": "markdown",
   "source": "### **Iterar listas**",
   "id": "d6e7cc6209631a11"
  },
  {
   "metadata": {},
   "cell_type": "markdown",
   "source": "#### **Estructura para iterar una lista:** Por medio de un ciclo se puede iterar la lista",
   "id": "3338db4103c84add"
  },
  {
   "metadata": {},
   "cell_type": "markdown",
   "source": "Con ciclo *While*",
   "id": "6fcfb26571083d26"
  },
  {
   "metadata": {},
   "cell_type": "code",
   "outputs": [],
   "execution_count": null,
   "source": [
    "lista = lista_C\n",
    "largo = len(lista)\n",
    "i = 0\n",
    "while i < largo:\n",
    "    #bloque de código\n",
    "    print(f\"lista[{i}]: {lista[i]}\")\n",
    "    i+=1 #condición de cambio del ciclo"
   ],
   "id": "a7eb3cabf919cfe2"
  },
  {
   "metadata": {},
   "cell_type": "markdown",
   "source": "Con ciclo *for*, python al tener estructuras distintas para el for ofrece la posibilidad de recorrer varias lista a la vez.",
   "id": "2a0090789d29ecf7"
  },
  {
   "metadata": {},
   "cell_type": "markdown",
   "source": "**1. Una lista**",
   "id": "662348701d9a38e0"
  },
  {
   "metadata": {},
   "cell_type": "code",
   "source": [
    "for i in lista:\n",
    "    print(f\"{i}\")"
   ],
   "id": "36ada973a44b9cea",
   "outputs": [],
   "execution_count": null
  },
  {
   "metadata": {},
   "cell_type": "markdown",
   "source": "**2. n listas**, considerar que el ciclo termina en relación a la lista mas corta",
   "id": "3707d46f9fee087f"
  },
  {
   "metadata": {},
   "cell_type": "code",
   "source": [
    "for i, j, k in zip(lista_A,lista_B,lista_C):\n",
    "    print(f\"{i} -- {j} -- {k}\")"
   ],
   "id": "892b9d70f48c78e5",
   "outputs": [],
   "execution_count": null
  },
  {
   "metadata": {},
   "cell_type": "markdown",
   "source": "### **Agregar y eliminar a una lista**",
   "id": "b4caee03c28554ec"
  },
  {
   "metadata": {},
   "cell_type": "code",
   "outputs": [],
   "execution_count": null,
   "source": "",
   "id": "a3a50369652a2c92"
  }
 ],
 "metadata": {
  "kernelspec": {
   "display_name": "Python 3",
   "language": "python",
   "name": "python3"
  },
  "language_info": {
   "codemirror_mode": {
    "name": "ipython",
    "version": 2
   },
   "file_extension": ".py",
   "mimetype": "text/x-python",
   "name": "python",
   "nbconvert_exporter": "python",
   "pygments_lexer": "ipython2",
   "version": "2.7.6"
  }
 },
 "nbformat": 4,
 "nbformat_minor": 5
}
